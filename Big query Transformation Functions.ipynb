{
 "cells": [
  {
   "cell_type": "markdown",
   "metadata": {},
   "source": [
    "# BigQuery Functions"
   ]
  },
  {
   "cell_type": "markdown",
   "metadata": {},
   "source": [
    "Creating functions to be used in querying and transforming BigQuery tables"
   ]
  },
  {
   "cell_type": "markdown",
   "metadata": {},
   "source": [
    " "
   ]
  },
  {
   "cell_type": "markdown",
   "metadata": {},
   "source": [
    "Reading in the required modules"
   ]
  },
  {
   "cell_type": "code",
   "execution_count": null,
   "metadata": {},
   "outputs": [],
   "source": [
    "from google.cloud import bigquery\n",
    "import re"
   ]
  },
  {
   "cell_type": "code",
   "execution_count": null,
   "metadata": {},
   "outputs": [],
   "source": [
    "!pip install datalab --upgrade\n",
    "#\n",
    "%load_ext google.datalab.kernel\n",
    "#\n",
    "from google.datalab import bigquery\n",
    "import google.datalab.bigquery as bq\n",
    "#\n",
    "set_datalab_project_id('project_id') # enter your project id here\n",
    "#\n",
    "%reload_ext google.cloud.bigquery"
   ]
  },
  {
   "cell_type": "code",
   "execution_count": null,
   "metadata": {},
   "outputs": [],
   "source": [
    "import google.datalab as dl\n",
    "import google.datalab.bigquery as bq\n",
    "import google.datalab.storage as storage\n",
    "\n",
    "#Import python pandas for data wrangling\n",
    "import pandas as pd"
   ]
  },
  {
   "cell_type": "markdown",
   "metadata": {},
   "source": [
    " "
   ]
  },
  {
   "cell_type": "markdown",
   "metadata": {},
   "source": [
    "  "
   ]
  },
  {
   "cell_type": "markdown",
   "metadata": {},
   "source": [
    " Creating the function to read and create a pivot table query from a table given the inputs"
   ]
  },
  {
   "cell_type": "code",
   "execution_count": null,
   "metadata": {},
   "outputs": [],
   "source": [
    "# Enter the database name, table name, index column, columns to pivot and value column (by default 1)\n",
    "def bq_custom_pivot(db_name, # enter the input database name\n",
    "                    table_name, # input table name\n",
    "                    index_cols, # index columns as a list: ['col1', 'col2']\n",
    "                    col_def, # field to convert to column\n",
    "                    val_def = 1, # value field to aggregate (By default it will carry out one-hot encoding)\n",
    "                    val_agg = 'SUM'): # Aggregation function\n",
    "        \n",
    "        ## Reading in the indexes mentioned\n",
    "        idx_fin = \"\"\n",
    "        for i in range(0, len(index_cols)):\n",
    "            idx = str(index_cols[i])\n",
    "\n",
    "            if i == max(range(0, len(index_cols))):\n",
    "                idx_fin += idx\n",
    "            else:\n",
    "                idx_fin += idx + \", \"\n",
    "        \n",
    "        ## Identifying the columns to generate case when statements\n",
    "        col_sql = \"SELECT DISTINCT \" + col_def + \" FROM `\" + db_name + \".\" + table_name + \"`\" + \" WHERE \" + col_def + \" IS NOT NULL\"\n",
    "        col_query = bq.Query(col_sql)\n",
    "        col_df = col_query.execute(output_options=bq.QueryOutput.dataframe()).result()\n",
    "        \n",
    "        ## Generating the case when statements\n",
    "        case_qry = \"\"\n",
    "        sel_qry = \"\"\n",
    "        \n",
    "        for i in range(0,len(col_df.iloc[:,0])):\n",
    "            \n",
    "            col_sel = str(col_df.iloc[i, 0])\n",
    "            col_clean = re.sub('[^A-Za-z0-9]+', '', col_sel)\n",
    "            \n",
    "            if type(col_df.iloc[i, 0]) == str:\n",
    "                case_prt = \"(CASE WHEN \" + col_def + \" = \" + \"\\\"\" + col_sel + \"\\\"\" + \" THEN \" + val_def + \" ELSE 0 END) AS \" + \"Col_\" + col_clean\n",
    "            else:\n",
    "                case_prt = \"(CASE WHEN \" + col_def + \" = \" + col_sel + \" THEN \" + val_def + \" ELSE 0 END) AS \" + \"Col_\" + col_clean\n",
    "            \n",
    "            sel_prt = \"Col_\" + col_clean\n",
    "\n",
    "            if i == max(range(0,len(col_df.iloc[:,0]))):\n",
    "                case_qry += case_prt\n",
    "                sel_qry += sel_prt\n",
    "\n",
    "            elif i == max(range(0,len(col_df.iloc[:,0]))) - 1:\n",
    "                case_qry += case_prt + \", \"\n",
    "                sel_qry += sel_prt +\", \"\n",
    "                \n",
    "                \n",
    "            else: \n",
    "                case_qry += case_prt + \", \"\n",
    "                sel_qry += sel_prt +\", \"\n",
    "                \n",
    "        agg_qry = \"\"\n",
    "        for m in range(0, len(col_df.iloc[:, 0])):\n",
    "            col_sel = str(col_df.iloc[m, 0])\n",
    "            col_clean = re.sub('[^A-Za-z0-9]+', '', col_sel)\n",
    "            agg_prt = val_agg + \"(Col_\" + col_clean + \") AS Col_\" + col_clean\n",
    "            \n",
    "            if m >= max(range(0,len(col_df.iloc[:,0]))):\n",
    "                agg_qry += agg_prt\n",
    "            else:\n",
    "                agg_qry += agg_prt + \", \"\n",
    "                \n",
    "        ## Group By number of columns\n",
    "        grp_qry =\"\"\n",
    "        for k in range(0, len(index_cols)):\n",
    "            grp_col = str(k+1)\n",
    "            if k == max(range(0, len(index_cols))):\n",
    "                grp_qry += grp_col\n",
    "            else:\n",
    "                grp_qry += grp_col + \", \"\n",
    "                \n",
    "\n",
    "        qry_1 = \"WITH Q1 AS (SELECT \" + idx_fin + \", \" + case_qry + \" \" + \" FROM `\" + db_name + \".\" + table_name + \"`)\"\n",
    "        \n",
    "        qry_2 = \" SELECT \" + idx_fin + \", \" + agg_qry +\" FROM Q1 GROUP BY \" + grp_qry \n",
    "        \n",
    "        final_qry = qry_1 + qry_2\n",
    "        \n",
    "        return final_qry"
   ]
  },
  {
   "cell_type": "code",
   "execution_count": null,
   "metadata": {},
   "outputs": [],
   "source": [
    "user_index = [\"col1\", \"col2\"] #list of index columns'\n",
    "user_col = \"vendor_name\" #column to pivot\n",
    "user_tbl = \"input_table\" # Input Table\n",
    "user_db = \"input_db\" # Input database\n",
    "user_val = \"val_col\" # Value column (By default one-hot encoding)\n"
   ]
  },
  {
   "cell_type": "code",
   "execution_count": null,
   "metadata": {
    "scrolled": true
   },
   "outputs": [],
   "source": [
    "# Creates a query string to generate the pivot\n",
    "fin_qry = bq_custom_pivot(user_db, user_tbl, user_index, user_col, user_val)"
   ]
  },
  {
   "cell_type": "code",
   "execution_count": null,
   "metadata": {},
   "outputs": [],
   "source": [
    "# Writes the bigquery table on Google Cloud\n",
    "fin_query = bq.Query(liq_qry)\n",
    "fin_job = liq_query.execute(output_options = bq.QueryOutput.table(name='output_db.tbl_name', \n",
    "                                                                    mode='overwrite'))"
   ]
  },
  {
   "cell_type": "markdown",
   "metadata": {},
   "source": [
    " "
   ]
  },
  {
   "cell_type": "markdown",
   "metadata": {},
   "source": [
    " "
   ]
  },
  {
   "cell_type": "markdown",
   "metadata": {},
   "source": [
    " "
   ]
  }
 ],
 "metadata": {
  "kernelspec": {
   "display_name": "Python 3",
   "language": "python",
   "name": "python3"
  },
  "language_info": {
   "codemirror_mode": {
    "name": "ipython",
    "version": 3
   },
   "file_extension": ".py",
   "mimetype": "text/x-python",
   "name": "python",
   "nbconvert_exporter": "python",
   "pygments_lexer": "ipython3",
   "version": "3.6.7"
  }
 },
 "nbformat": 4,
 "nbformat_minor": 2
}
